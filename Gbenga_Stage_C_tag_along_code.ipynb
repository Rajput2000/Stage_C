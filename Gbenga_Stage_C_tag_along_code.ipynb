{
  "nbformat": 4,
  "nbformat_minor": 0,
  "metadata": {
    "colab": {
      "provenance": []
    },
    "kernelspec": {
      "name": "python3",
      "display_name": "Python 3"
    },
    "language_info": {
      "name": "python"
    }
  },
  "cells": [
    {
      "cell_type": "code",
      "execution_count": 61,
      "metadata": {
        "id": "NC60JX1Z3BKz"
      },
      "outputs": [],
      "source": [
        "import pandas as pd\n",
        "import numpy as np\n",
        "import matplotlib.pyplot as plt\n",
        "import warnings\n",
        "\n",
        "warnings.filterwarnings('ignore')"
      ]
    },
    {
      "cell_type": "code",
      "source": [
        "df = pd.read_csv('Data_for_UCI_named.csv')"
      ],
      "metadata": {
        "id": "4EM8fkUM3Mz5"
      },
      "execution_count": 62,
      "outputs": []
    },
    {
      "cell_type": "code",
      "source": [
        "df.info()"
      ],
      "metadata": {
        "colab": {
          "base_uri": "https://localhost:8080/"
        },
        "id": "rapXVllU4NO4",
        "outputId": "8dae5442-20e6-4eb3-91c3-dd7aeee8daad"
      },
      "execution_count": 63,
      "outputs": [
        {
          "output_type": "stream",
          "name": "stdout",
          "text": [
            "<class 'pandas.core.frame.DataFrame'>\n",
            "RangeIndex: 10000 entries, 0 to 9999\n",
            "Data columns (total 14 columns):\n",
            " #   Column  Non-Null Count  Dtype  \n",
            "---  ------  --------------  -----  \n",
            " 0   tau1    10000 non-null  float64\n",
            " 1   tau2    10000 non-null  float64\n",
            " 2   tau3    10000 non-null  float64\n",
            " 3   tau4    10000 non-null  float64\n",
            " 4   p1      10000 non-null  float64\n",
            " 5   p2      10000 non-null  float64\n",
            " 6   p3      10000 non-null  float64\n",
            " 7   p4      10000 non-null  float64\n",
            " 8   g1      10000 non-null  float64\n",
            " 9   g2      10000 non-null  float64\n",
            " 10  g3      10000 non-null  float64\n",
            " 11  g4      10000 non-null  float64\n",
            " 12  stab    10000 non-null  float64\n",
            " 13  stabf   10000 non-null  object \n",
            "dtypes: float64(13), object(1)\n",
            "memory usage: 1.1+ MB\n"
          ]
        }
      ]
    },
    {
      "cell_type": "code",
      "source": [
        "df.drop(columns='stab', inplace=True)"
      ],
      "metadata": {
        "id": "KZibzZEP4RAU"
      },
      "execution_count": 64,
      "outputs": []
    },
    {
      "cell_type": "code",
      "source": [
        "x = df.iloc[:,:-1]\n",
        "y = df.stabf"
      ],
      "metadata": {
        "id": "pE79Hfdv4X29"
      },
      "execution_count": 65,
      "outputs": []
    },
    {
      "cell_type": "code",
      "source": [
        "from sklearn.model_selection import train_test_split \n",
        "x_train, x_test, y_train, y_test = train_test_split(x, y, test_size= 0.2 , random_state=1) "
      ],
      "metadata": {
        "id": "5-yMiyPr4968"
      },
      "execution_count": 69,
      "outputs": []
    },
    {
      "cell_type": "code",
      "source": [
        "from sklearn.preprocessing import StandardScaler \n",
        "scaler = StandardScaler() \n",
        "normalised_train_df = scaler.fit_transform(x_train) \n",
        "normalised_train_df = pd.DataFrame(normalised_train_df, columns=x_train.columns) \n",
        "\n",
        "x_test = x_test.reset_index(drop= True ) \n",
        "normalised_test_df = scaler.transform(x_test) \n",
        "normalised_test_df = pd.DataFrame(normalised_test_df, columns=x_test.columns) "
      ],
      "metadata": {
        "id": "0eiq4RNK5yaD"
      },
      "execution_count": 74,
      "outputs": []
    },
    {
      "cell_type": "markdown",
      "source": [
        "What is the accuracy on the test set using the random forest classifier? In 4 decimal places."
      ],
      "metadata": {
        "id": "2qkBB2HDKSSh"
      }
    },
    {
      "cell_type": "code",
      "source": [
        "from sklearn.ensemble import RandomForestClassifier\n",
        "model = RandomForestClassifier(random_state = 1)\n",
        "model.fit(normalised_train_df, y_train)"
      ],
      "metadata": {
        "colab": {
          "base_uri": "https://localhost:8080/"
        },
        "id": "pvLs6iG87MJS",
        "outputId": "ae49829f-6066-4d0e-bd99-c00473b9d7d4"
      },
      "execution_count": 75,
      "outputs": [
        {
          "output_type": "execute_result",
          "data": {
            "text/plain": [
              "RandomForestClassifier(random_state=1)"
            ]
          },
          "metadata": {},
          "execution_count": 75
        }
      ]
    },
    {
      "cell_type": "code",
      "source": [
        "new_prediction = model.predict(normalised_test_df)"
      ],
      "metadata": {
        "id": "kSRIaz6h8B2z"
      },
      "execution_count": 40,
      "outputs": []
    },
    {
      "cell_type": "code",
      "source": [
        "from sklearn.metrics import accuracy_score\n",
        "accuracy = accuracy_score(y_true=y_test, y_pred=new_prediction) \n",
        "round(accuracy, 4 ) "
      ],
      "metadata": {
        "colab": {
          "base_uri": "https://localhost:8080/"
        },
        "id": "hWSDEGW77wFr",
        "outputId": "f2866216-8704-4d4d-a837-f9567b4a41fc"
      },
      "execution_count": 76,
      "outputs": [
        {
          "output_type": "execute_result",
          "data": {
            "text/plain": [
              "0.9195"
            ]
          },
          "metadata": {},
          "execution_count": 76
        }
      ]
    },
    {
      "cell_type": "markdown",
      "source": [
        "What is the accuracy on the test set using the LGBM classifier? In 4 decimal places."
      ],
      "metadata": {
        "id": "VYXyNomzK9-H"
      }
    },
    {
      "cell_type": "code",
      "source": [
        "import lightgbm as lgb\n",
        "model = lgb.LGBMClassifier(random_state=1)\n",
        "model.fit(normalised_train_df, y_train)"
      ],
      "metadata": {
        "colab": {
          "base_uri": "https://localhost:8080/"
        },
        "id": "KFgb7c9P8Jvc",
        "outputId": "2ecca103-7a39-41da-ca43-a7080f0a58da"
      },
      "execution_count": 77,
      "outputs": [
        {
          "output_type": "execute_result",
          "data": {
            "text/plain": [
              "LGBMClassifier(random_state=1)"
            ]
          },
          "metadata": {},
          "execution_count": 77
        }
      ]
    },
    {
      "cell_type": "code",
      "source": [
        "new_prediction = model.predict(normalised_test_df)"
      ],
      "metadata": {
        "id": "oniMi9Nv_Dry"
      },
      "execution_count": 78,
      "outputs": []
    },
    {
      "cell_type": "code",
      "source": [
        "from sklearn.metrics import accuracy_score\n",
        "accuracy = accuracy_score(y_true=y_test, y_pred=new_prediction) \n",
        "round(accuracy, 4 ) "
      ],
      "metadata": {
        "colab": {
          "base_uri": "https://localhost:8080/"
        },
        "id": "X2sC4Kw6D-Xg",
        "outputId": "8775943b-310b-44d1-ed6a-003b2385ea99"
      },
      "execution_count": 79,
      "outputs": [
        {
          "output_type": "execute_result",
          "data": {
            "text/plain": [
              "0.9375"
            ]
          },
          "metadata": {},
          "execution_count": 79
        }
      ]
    },
    {
      "cell_type": "markdown",
      "source": [
        "Find the feature importance using the optimal ExtraTreesClassifier model. Which features are the most and least important respectively?"
      ],
      "metadata": {
        "id": "0eeYGHLmLkV-"
      }
    },
    {
      "cell_type": "code",
      "source": [
        "from sklearn.ensemble import ExtraTreesClassifier\n",
        "\n",
        "extra_tree_forest = ExtraTreesClassifier(random_state=1)\n",
        "extra_tree_forest.fit(normalised_train_df, y_train)\n",
        "  \n",
        "feature_importance = extra_tree_forest.feature_importances_"
      ],
      "metadata": {
        "id": "HERa594g_L-G"
      },
      "execution_count": 92,
      "outputs": []
    },
    {
      "cell_type": "code",
      "source": [
        "# Plotting a Bar Graph to compare the models\n",
        "plt.bar(normalised_train_df.columns, feature_importance)\n",
        "plt.xlabel('Feature Labels')\n",
        "plt.ylabel('Feature Importances')\n",
        "plt.title('Comparison of different Feature Importances')\n",
        "plt.show()"
      ],
      "metadata": {
        "colab": {
          "base_uri": "https://localhost:8080/",
          "height": 295
        },
        "id": "w8yVRN7AFmoL",
        "outputId": "dc1f904e-b85e-47c3-b076-22adba60943d"
      },
      "execution_count": 93,
      "outputs": [
        {
          "output_type": "display_data",
          "data": {
            "text/plain": [
              "<Figure size 432x288 with 1 Axes>"
            ],
            "image/png": "[encoded data removed]"
          },
          "metadata": {
            "needs_background": "light"
          }
        }
      ]
    },
    {
      "cell_type": "markdown",
      "source": [
        "Train a new ExtraTreesClassifier Model with the new Hyperparameters from the RandomizedSearchCV (with random_state = 1). Is the accuracy of the new optimal model higher or lower than the initial ExtraTreesClassifier model with no hyperparameter tuning?"
      ],
      "metadata": {
        "id": "85Xagn5WNI6A"
      }
    },
    {
      "cell_type": "code",
      "source": [
        "model = ExtraTreesClassifier(random_state = 1)\n",
        "model.fit(normalised_train_df, y_train)"
      ],
      "metadata": {
        "colab": {
          "base_uri": "https://localhost:8080/"
        },
        "id": "ednB88znGv5c",
        "outputId": "5b189dd1-59da-4e32-dedb-67ba563c9c1b"
      },
      "execution_count": 95,
      "outputs": [
        {
          "output_type": "execute_result",
          "data": {
            "text/plain": [
              "ExtraTreesClassifier(random_state=1)"
            ]
          },
          "metadata": {},
          "execution_count": 95
        }
      ]
    },
    {
      "cell_type": "code",
      "source": [
        "pred = model.predict(normalised_test_df)\n",
        "accuracy = accuracy_score(y_true=y_test, y_pred=pred) \n",
        "round(accuracy, 4 ) "
      ],
      "metadata": {
        "colab": {
          "base_uri": "https://localhost:8080/"
        },
        "id": "UeRRqdCsOPKS",
        "outputId": "6dd6e961-96de-4131-a2f4-579255bfce3c"
      },
      "execution_count": 96,
      "outputs": [
        {
          "output_type": "execute_result",
          "data": {
            "text/plain": [
              "0.928"
            ]
          },
          "metadata": {},
          "execution_count": 96
        }
      ]
    },
    {
      "cell_type": "code",
      "source": [
        "from sklearn.model_selection import RandomizedSearchCV\n",
        "\n",
        "space = { 'n_estimators':np.arange(3,20),\n",
        "         'criterion':['gini','entropy'],\n",
        "         'max_depth':[None, 3, 5, 8],\n",
        "         'min_samples_split':np.arange(2,10)}\n",
        "search = RandomizedSearchCV(model, space, random_state=1)\n",
        "result = search.fit(normalised_train_df, y_train)\n",
        "# summarize result\n",
        "print('Best Score: %s' % result.best_score_)\n",
        "print('Best Hyperparameters: %s' % result.best_params_)"
      ],
      "metadata": {
        "id": "FX1OPUJNRYWc"
      },
      "execution_count": null,
      "outputs": []
    },
    {
      "cell_type": "markdown",
      "source": [
        "The accuracy is lower than the initial ExtraTreesClassifier"
      ],
      "metadata": {
        "id": "b-1YFiKnRgpi"
      }
    },
    {
      "cell_type": "markdown",
      "source": [
        "Using the ExtraTreesClassifier as your estimator with cv=5, n_iter=10, scoring = 'accuracy', n_jobs = -1, verbose = 1 and random_state = 1. What are the best hyperparameters from the randomized search CV"
      ],
      "metadata": {
        "id": "keFTfLghSJld"
      }
    },
    {
      "cell_type": "code",
      "source": [
        "from sklearn.model_selection import RandomizedSearchCV\n",
        "\n",
        "space = { 'n_estimators':[100, 300, 500,1000],\n",
        "         'min_samples_leaf':[4, 6, 8],\n",
        "         'max_features':['auto', 'sqrt',  'log2', None],\n",
        "         'min_samples_split':[2,5,7]}\n",
        "search = RandomizedSearchCV(model, space, n_iter=10, scoring='accuracy', n_jobs=-1, cv=5, random_state=1, verbose=1)\n",
        "result = search.fit(normalised_train_df, y_train)\n",
        "# summarize result\n",
        "print('Best Score: %s' % result.best_score_)\n",
        "print('Best Hyperparameters: %s' % result.best_params_)"
      ],
      "metadata": {
        "colab": {
          "base_uri": "https://localhost:8080/"
        },
        "id": "PUDgn4D6On3k",
        "outputId": "fc172fe6-b126-4634-ea36-4e360c63908b"
      },
      "execution_count": 109,
      "outputs": [
        {
          "output_type": "stream",
          "name": "stdout",
          "text": [
            "Fitting 5 folds for each of 10 candidates, totalling 50 fits\n",
            "Best Score: 0.9440000000000002\n",
            "Best Hyperparameters: {'n_estimators': 1000, 'min_samples_split': 5, 'min_samples_leaf': 6, 'max_features': 'log2'}\n"
          ]
        }
      ]
    },
    {
      "cell_type": "markdown",
      "source": [
        "What is the accuracy on the test set using the XGboost classifier? In 4 decimal places."
      ],
      "metadata": {
        "id": "yPlRQr-JTcs0"
      }
    },
    {
      "cell_type": "code",
      "source": [
        "import xgboost as xgb\n",
        "model = xgb.XGBClassifier(random_state=1)\n",
        "model.fit(normalised_train_df, y_train)"
      ],
      "metadata": {
        "colab": {
          "base_uri": "https://localhost:8080/"
        },
        "id": "oS73OPePSkQC",
        "outputId": "4054c9cd-a8ea-4ecf-ee62-5dc5121cd004"
      },
      "execution_count": 101,
      "outputs": [
        {
          "output_type": "execute_result",
          "data": {
            "text/plain": [
              "XGBClassifier(random_state=1)"
            ]
          },
          "metadata": {},
          "execution_count": 101
        }
      ]
    },
    {
      "cell_type": "code",
      "source": [
        "new_prediction = model.predict(normalised_test_df)"
      ],
      "metadata": {
        "id": "GPUwKUBYTrfm"
      },
      "execution_count": 102,
      "outputs": []
    },
    {
      "cell_type": "code",
      "source": [
        "from sklearn.metrics import accuracy_score\n",
        "accuracy = accuracy_score(y_true=y_test, y_pred=new_prediction) \n",
        "round(accuracy, 4 ) "
      ],
      "metadata": {
        "colab": {
          "base_uri": "https://localhost:8080/"
        },
        "id": "DoNr_Kf3T2i_",
        "outputId": "50050b21-753f-4f53-e7e8-17d4cb7a53b1"
      },
      "execution_count": 103,
      "outputs": [
        {
          "output_type": "execute_result",
          "data": {
            "text/plain": [
              "0.9195"
            ]
          },
          "metadata": {},
          "execution_count": 103
        }
      ]
    }
  ]
}